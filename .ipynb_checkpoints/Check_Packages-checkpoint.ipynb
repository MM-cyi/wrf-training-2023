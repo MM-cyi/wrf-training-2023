{
 "cells": [
  {
   "cell_type": "code",
   "execution_count": null,
   "id": "c76c5ed1-6ea2-4953-95d6-4c2999ae6bc4",
   "metadata": {},
   "outputs": [],
   "source": [
    "\"\"\"\n",
    "\n",
    "Created on Mon Oct 30 15:14:06 2023\n",
    "\n",
    "Marco Miani\n",
    "Computational Support Specialist\n",
    "Climate and Atmosphere Research Center (CARE-C)\n",
    "The Cyprus Institute\n",
    "20 Konstantinou Kavafi Street, 2121, Nicosia, Cyprus\n",
    "Tel: +357 22 397 561 | Email: m.miani@cyi.ac.cy\n",
    "Web: cyi.ac.cy | emme-care.cyi.ac.cy\n",
    "\"\"\"\n"
   ]
  },
  {
   "cell_type": "code",
   "execution_count": 4,
   "id": "c9a309cc-cd6e-4292-a10c-7b61e25e97d0",
   "metadata": {},
   "outputs": [
    {
     "name": "stdout",
     "output_type": "stream",
     "text": [
      "\n",
      "\n",
      "There are 5 necessary modules we are going to need for this training. Let me check if you have them\n",
      "\n",
      "\n",
      "\n",
      "[OK] \t wrf is availble! All right!\n",
      "[OK] \t matplotlib is availble! All right!\n",
      "[OK] \t cartopy is availble! All right!\n",
      "[OK] \t netCDF4 is availble! All right!\n",
      "[OK] \t pandas is availble! All right!\n"
     ]
    }
   ],
   "source": [
    "\n",
    "\n",
    "\n",
    "modules2import = ['wrf', 'matplotlib', 'cartopy', 'netCDF4', 'pandas']\n",
    "\n",
    "\n",
    "print(\"\\n\")\n",
    "print(\"There are {} necessary modules we are going to need for this training. Let me check if you have them\".format(len(modules2import)))\n",
    "print(2*\"\\n\")\n",
    "for module in modules2import: \n",
    "    try: \n",
    "        eval(\"exec('import {}')\".format(module))\n",
    "        print('[OK] \\t {} is availble! All right!' .format(module))\n",
    "    except: \n",
    "        print(\"[NO] \\t >>Error when loading module {}\\n\\t\\t\\t Use conda or pip to install it -- you will need it\".format(module))\n",
    "\n",
    "\n",
    "\n"
   ]
  },
  {
   "cell_type": "code",
   "execution_count": 5,
   "id": "f3f888b1-4ddb-4ba0-8695-2fc015debc3b",
   "metadata": {},
   "outputs": [
    {
     "name": "stdout",
     "output_type": "stream",
     "text": [
      "\n",
      "\n",
      "------------------------------\n",
      "You username is:  olddog\n",
      "Your system is Linux\n",
      "\n",
      "Filesystem      Size  Used Avail Use% Mounted on\n",
      "/dev/nvme0n1p5  214G  143G   60G  71% /\n"
     ]
    },
    {
     "data": {
      "text/plain": [
       "0"
      ]
     },
     "execution_count": 5,
     "metadata": {},
     "output_type": "execute_result"
    }
   ],
   "source": [
    "\n",
    "\n",
    "import platform \n",
    "import os\n",
    "print(1*\"\\n\")\n",
    "print(30*\"-\")\n",
    "plt = platform.system()\n",
    "print('You username is: ', os.getlogin())\n",
    "if plt == \"Windows\":\n",
    "    print(\"Your system is Windows (by the way I dont like your OS...)\")\n",
    "    # do x y z\n",
    "elif plt == \"Linux\":\n",
    "    print(\"Your system is Linux\")\n",
    "    # do x y z\n",
    "elif plt == \"Darwin\":\n",
    "    print(\"Your system is MacOS\")\n",
    "    # do x y z\n",
    "else:\n",
    "    print('What OS are you running on???')\n",
    "    \n",
    "print(\"\")\n",
    "os.system('df -h /')  "
   ]
  }
 ],
 "metadata": {
  "kernelspec": {
   "display_name": "Python 3 (ipykernel)",
   "language": "python",
   "name": "python3"
  },
  "language_info": {
   "codemirror_mode": {
    "name": "ipython",
    "version": 3
   },
   "file_extension": ".py",
   "mimetype": "text/x-python",
   "name": "python",
   "nbconvert_exporter": "python",
   "pygments_lexer": "ipython3",
   "version": "3.11.3"
  }
 },
 "nbformat": 4,
 "nbformat_minor": 5
}
